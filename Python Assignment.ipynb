{
 "cells": [
  {
   "cell_type": "markdown",
   "id": "399cbdca-f687-4848-b611-50cc0c59c857",
   "metadata": {},
   "source": [
    "# Assignment"
   ]
  },
  {
   "cell_type": "markdown",
   "id": "fae9db46-7ad7-4d0c-8b00-5a6fc5c7cb5d",
   "metadata": {},
   "source": [
    "## ANSWER 1"
   ]
  },
  {
   "cell_type": "raw",
   "id": "b4d305e5-2b56-4200-afd1-e9318c6d6caf",
   "metadata": {},
   "source": [
    "Python is popular due to its easy-to-understand syntax and extensive libraries. It offers numerous third-party packages for various domains, making it versatile. In the data industry, it's favored for powerful tools like NumPy and Pandas. Python’s ability to connect to multiple tools and integrate seamlessly with other technologies makes it a versatile choice for developers. Additionally, it benefits from a huge, active community that continuously contributes to its development, providing extensive resources and support.\n"
   ]
  },
  {
   "cell_type": "markdown",
   "id": "c6b29c50-8a07-4735-9a2c-df54c7acbb3c",
   "metadata": {
    "tags": []
   },
   "source": [
    "## ANSWER 2"
   ]
  },
  {
   "cell_type": "raw",
   "id": "4e65547d-4f8c-49e3-9f2a-0c41ac5f1401",
   "metadata": {},
   "source": [
    "Predefined keywords in Python are reserved words that serve specific functions and structure the language. They cannot be used as variable names and are fundamental to coding in Python.\n",
    "Examples:\n",
    "#For conditional statements >> if, elif, else"
   ]
  },
  {
   "cell_type": "code",
   "execution_count": 2,
   "id": "dff6774a-eae8-4fac-a7fc-5f1ec42956d7",
   "metadata": {},
   "outputs": [
    {
     "name": "stdout",
     "output_type": "stream",
     "text": [
      "grade D\n"
     ]
    }
   ],
   "source": [
    "score = 65\n",
    "if score >= 90:\n",
    "    print(\"grade A\")\n",
    "elif (80<=score<90):\n",
    "    print(\"grade B\")\n",
    "elif (70<=score<80):\n",
    "    print(\"grade C\")\n",
    "else:\n",
    "    print(\"grade D\")"
   ]
  },
  {
   "cell_type": "code",
   "execution_count": 3,
   "id": "cf734bbd-fdaa-4189-9cf8-3c9863a14a6a",
   "metadata": {},
   "outputs": [
    {
     "name": "stdout",
     "output_type": "stream",
     "text": [
      "0\n",
      "1\n",
      "2\n",
      "3\n",
      "4\n"
     ]
    }
   ],
   "source": [
    "#For loops >> for and while loop\n",
    "for i in range(5):\n",
    "    print(i)\n",
    "\n"
   ]
  },
  {
   "cell_type": "code",
   "execution_count": 4,
   "id": "dc00c0cd-ed33-4eab-b59c-32cf4e855110",
   "metadata": {},
   "outputs": [
    {
     "name": "stdout",
     "output_type": "stream",
     "text": [
      "6\n",
      "5\n",
      "4\n",
      "3\n",
      "2\n",
      "1\n"
     ]
    }
   ],
   "source": [
    "count = 6\n",
    "while count > 0:\n",
    "    print(count)\n",
    "    count = count - 1"
   ]
  },
  {
   "cell_type": "markdown",
   "id": "f3912d70-549c-4408-80d2-2a897551f375",
   "metadata": {},
   "source": [
    "## ANSWER 3"
   ]
  },
  {
   "cell_type": "raw",
   "id": "5a31586b-9604-48a4-bc18-7e7130bf2996",
   "metadata": {},
   "source": [
    "In Python, objects can be classified as mutable or immutable based on whether their state can be modified after they are created.\n",
    "\n",
    "Mutable Objects\n",
    "Definition: Mutable objects can be changed after their creation.\n",
    "Examples: Lists, dictionaries, sets.\n"
   ]
  },
  {
   "cell_type": "code",
   "execution_count": 5,
   "id": "aad680ed-54f5-455f-b532-c65a32abfdb4",
   "metadata": {},
   "outputs": [
    {
     "data": {
      "text/plain": [
       "[1, 5, 10, 15, 20]"
      ]
     },
     "execution_count": 5,
     "metadata": {},
     "output_type": "execute_result"
    }
   ],
   "source": [
    "list_cont = [1, 5, 10, 15, 20]\n",
    "list_cont"
   ]
  },
  {
   "cell_type": "code",
   "execution_count": 8,
   "id": "517a470c-1431-409c-9412-e4dfb44ad4ce",
   "metadata": {},
   "outputs": [
    {
     "data": {
      "text/plain": [
       "10"
      ]
     },
     "execution_count": 8,
     "metadata": {},
     "output_type": "execute_result"
    }
   ],
   "source": [
    "list_cont[2]"
   ]
  },
  {
   "cell_type": "code",
   "execution_count": 9,
   "id": "3c005240-e5f7-4617-8b58-53a2cd2331b6",
   "metadata": {},
   "outputs": [],
   "source": [
    "list_cont[2] = 12"
   ]
  },
  {
   "cell_type": "code",
   "execution_count": 10,
   "id": "5bdf50e5-8aab-4543-bc37-115b34643387",
   "metadata": {},
   "outputs": [
    {
     "data": {
      "text/plain": [
       "[1, 5, 12, 15, 20]"
      ]
     },
     "execution_count": 10,
     "metadata": {},
     "output_type": "execute_result"
    }
   ],
   "source": [
    "list_cont"
   ]
  },
  {
   "cell_type": "raw",
   "id": "2e796fca-ef18-4953-8342-c5a492a57c9c",
   "metadata": {},
   "source": [
    "Immutable Objects\n",
    "Definition: Immutable objects cannot be changed once they are created.\n",
    "Examples: Strings, tuples, integers.\n"
   ]
  },
  {
   "cell_type": "code",
   "execution_count": 12,
   "id": "e7ddf0be-f028-44e0-9c10-73e052b6aeb0",
   "metadata": {},
   "outputs": [
    {
     "data": {
      "text/plain": [
       "'l'"
      ]
     },
     "execution_count": 12,
     "metadata": {},
     "output_type": "execute_result"
    }
   ],
   "source": [
    "a = \"World\"\n",
    "a[3]"
   ]
  },
  {
   "cell_type": "code",
   "execution_count": 14,
   "id": "899db058-2566-4dbb-9446-04193c8a590c",
   "metadata": {},
   "outputs": [
    {
     "ename": "TypeError",
     "evalue": "'str' object does not support item assignment",
     "output_type": "error",
     "traceback": [
      "\u001b[0;31m---------------------------------------------------------------------------\u001b[0m",
      "\u001b[0;31mTypeError\u001b[0m                                 Traceback (most recent call last)",
      "Cell \u001b[0;32mIn[14], line 1\u001b[0m\n\u001b[0;32m----> 1\u001b[0m \u001b[43ma\u001b[49m\u001b[43m[\u001b[49m\u001b[38;5;241;43m3\u001b[39;49m\u001b[43m]\u001b[49m \u001b[38;5;241m=\u001b[39m \u001b[38;5;124m\"\u001b[39m\u001b[38;5;124mp\u001b[39m\u001b[38;5;124m\"\u001b[39m\n",
      "\u001b[0;31mTypeError\u001b[0m: 'str' object does not support item assignment"
     ]
    }
   ],
   "source": [
    "a[3] = \"p\""
   ]
  },
  {
   "cell_type": "markdown",
   "id": "d391bf24-9bff-438e-adee-f9441f5ecea3",
   "metadata": {},
   "source": [
    "## ANSWER 4"
   ]
  },
  {
   "cell_type": "raw",
   "id": "fa33faf9-c3f2-4b94-9950-832e4da88973",
   "metadata": {},
   "source": [
    "Python supports various types of operators that allow you to perform different operations on variables and values.\n",
    "Operators are special keywords to perform operations.\n"
   ]
  },
  {
   "cell_type": "code",
   "execution_count": 15,
   "id": "b54b688e-6b3f-4b8e-a5fa-9e1d035acdcf",
   "metadata": {},
   "outputs": [
    {
     "data": {
      "text/plain": [
       "12"
      ]
     },
     "execution_count": 15,
     "metadata": {},
     "output_type": "execute_result"
    }
   ],
   "source": [
    "#arithmatic operators\n",
    "a = 5\n",
    "b = 7\n",
    "a+b"
   ]
  },
  {
   "cell_type": "code",
   "execution_count": 16,
   "id": "2124543b-ccbe-45ac-b7f1-e2966324eecb",
   "metadata": {},
   "outputs": [
    {
     "data": {
      "text/plain": [
       "1"
      ]
     },
     "execution_count": 16,
     "metadata": {},
     "output_type": "execute_result"
    }
   ],
   "source": [
    "#modulus Operator\n",
    "21 % 5"
   ]
  },
  {
   "cell_type": "code",
   "execution_count": 17,
   "id": "b66aac2f-3209-4c0f-98c5-7bdc13889dc6",
   "metadata": {},
   "outputs": [
    {
     "data": {
      "text/plain": [
       "125"
      ]
     },
     "execution_count": 17,
     "metadata": {},
     "output_type": "execute_result"
    }
   ],
   "source": [
    "5 ** 3"
   ]
  },
  {
   "cell_type": "code",
   "execution_count": 18,
   "id": "be63fa68-3358-4d03-a271-f68bdae8f2f5",
   "metadata": {},
   "outputs": [
    {
     "data": {
      "text/plain": [
       "1.6666666666666667"
      ]
     },
     "execution_count": 18,
     "metadata": {},
     "output_type": "execute_result"
    }
   ],
   "source": [
    "5 / 3"
   ]
  },
  {
   "cell_type": "code",
   "execution_count": 19,
   "id": "f36770a7-04e4-4a60-be2f-e602cb5c5c47",
   "metadata": {},
   "outputs": [
    {
     "data": {
      "text/plain": [
       "1"
      ]
     },
     "execution_count": 19,
     "metadata": {},
     "output_type": "execute_result"
    }
   ],
   "source": [
    "#floor operator\n",
    "5 // 3"
   ]
  },
  {
   "cell_type": "code",
   "execution_count": 20,
   "id": "5a82324d-7107-4a80-a126-fc427c2cbfb6",
   "metadata": {},
   "outputs": [
    {
     "data": {
      "text/plain": [
       "True"
      ]
     },
     "execution_count": 20,
     "metadata": {},
     "output_type": "execute_result"
    }
   ],
   "source": [
    "#comparision operator\n",
    "5 == 5"
   ]
  },
  {
   "cell_type": "code",
   "execution_count": 21,
   "id": "8964075b-a8c5-4dac-b04c-2717309a4e78",
   "metadata": {},
   "outputs": [
    {
     "data": {
      "text/plain": [
       "False"
      ]
     },
     "execution_count": 21,
     "metadata": {},
     "output_type": "execute_result"
    }
   ],
   "source": [
    "5 != 5"
   ]
  },
  {
   "cell_type": "code",
   "execution_count": 22,
   "id": "89539b7a-e340-4d1e-9454-5c0b15059e70",
   "metadata": {},
   "outputs": [
    {
     "data": {
      "text/plain": [
       "False"
      ]
     },
     "execution_count": 22,
     "metadata": {},
     "output_type": "execute_result"
    }
   ],
   "source": [
    "5 < 3"
   ]
  },
  {
   "cell_type": "code",
   "execution_count": 23,
   "id": "36e096e8-1081-41e8-82ab-95c85b1b1bdc",
   "metadata": {},
   "outputs": [
    {
     "data": {
      "text/plain": [
       "1"
      ]
     },
     "execution_count": 23,
     "metadata": {},
     "output_type": "execute_result"
    }
   ],
   "source": [
    "#logical operator\n",
    "#and\n",
    "#or\n",
    "True-False"
   ]
  },
  {
   "cell_type": "code",
   "execution_count": 24,
   "id": "bf8a0a46-59ed-428c-ad74-9c789b2f8b1d",
   "metadata": {},
   "outputs": [
    {
     "data": {
      "text/plain": [
       "True"
      ]
     },
     "execution_count": 24,
     "metadata": {},
     "output_type": "execute_result"
    }
   ],
   "source": [
    "True or False"
   ]
  },
  {
   "cell_type": "code",
   "execution_count": 25,
   "id": "3eabd604-7041-4bdc-82f2-6340f60a9da8",
   "metadata": {},
   "outputs": [
    {
     "data": {
      "text/plain": [
       "False"
      ]
     },
     "execution_count": 25,
     "metadata": {},
     "output_type": "execute_result"
    }
   ],
   "source": [
    "True and False"
   ]
  },
  {
   "cell_type": "code",
   "execution_count": 26,
   "id": "2e8ef229-40b7-4804-89bb-f546600a4a14",
   "metadata": {},
   "outputs": [
    {
     "data": {
      "text/plain": [
       "False"
      ]
     },
     "execution_count": 26,
     "metadata": {},
     "output_type": "execute_result"
    }
   ],
   "source": [
    "#not operator\n",
    "not True "
   ]
  },
  {
   "cell_type": "code",
   "execution_count": 27,
   "id": "6df88684-7d28-4971-b03e-4c894d1d7ace",
   "metadata": {},
   "outputs": [
    {
     "data": {
      "text/plain": [
       "18"
      ]
     },
     "execution_count": 27,
     "metadata": {},
     "output_type": "execute_result"
    }
   ],
   "source": [
    "#Assignment operator\n",
    "a = 18\n",
    "a"
   ]
  },
  {
   "cell_type": "code",
   "execution_count": 28,
   "id": "550229b8-b943-4d55-9d99-8c65fa61a1a6",
   "metadata": {},
   "outputs": [
    {
     "data": {
      "text/plain": [
       "16"
      ]
     },
     "execution_count": 28,
     "metadata": {},
     "output_type": "execute_result"
    }
   ],
   "source": [
    "b = 12\n",
    "b = b+4\n",
    "b"
   ]
  },
  {
   "cell_type": "code",
   "execution_count": 30,
   "id": "55a054ca-2f31-4cce-82ef-b4fe19c1f953",
   "metadata": {},
   "outputs": [
    {
     "data": {
      "text/plain": [
       "True"
      ]
     },
     "execution_count": 30,
     "metadata": {},
     "output_type": "execute_result"
    }
   ],
   "source": [
    "#membership operator\n",
    "a = \"Hello\"\n",
    "\"H\" in a"
   ]
  },
  {
   "cell_type": "code",
   "execution_count": 31,
   "id": "c60ece63-bf1d-412a-a37a-ef3cceaee086",
   "metadata": {},
   "outputs": [
    {
     "data": {
      "text/plain": [
       "False"
      ]
     },
     "execution_count": 31,
     "metadata": {},
     "output_type": "execute_result"
    }
   ],
   "source": [
    "\"w\" in a"
   ]
  },
  {
   "cell_type": "code",
   "execution_count": 32,
   "id": "464e52cf-962a-4f87-870f-a7f2edea07f0",
   "metadata": {},
   "outputs": [
    {
     "data": {
      "text/plain": [
       "True"
      ]
     },
     "execution_count": 32,
     "metadata": {},
     "output_type": "execute_result"
    }
   ],
   "source": [
    "a = (\"hello\", \"hi\", \"hey\")\n",
    "\"hi\" in a"
   ]
  },
  {
   "cell_type": "code",
   "execution_count": 33,
   "id": "2f272a1f-7452-4ad8-9b2e-a92912430776",
   "metadata": {},
   "outputs": [
    {
     "data": {
      "text/plain": [
       "4"
      ]
     },
     "execution_count": 33,
     "metadata": {},
     "output_type": "execute_result"
    }
   ],
   "source": [
    "#identity operator\n",
    "a = 2\n",
    "b = a \n",
    "a+b"
   ]
  },
  {
   "cell_type": "code",
   "execution_count": 34,
   "id": "647da47e-54e6-49b7-967f-13bc9a588c56",
   "metadata": {},
   "outputs": [
    {
     "data": {
      "text/plain": [
       "10"
      ]
     },
     "execution_count": 34,
     "metadata": {},
     "output_type": "execute_result"
    }
   ],
   "source": [
    "#bitwise operator\n",
    "10 & 10"
   ]
  },
  {
   "cell_type": "code",
   "execution_count": 36,
   "id": "65d93e86-5186-4f91-9bbc-f66e87074fde",
   "metadata": {},
   "outputs": [
    {
     "data": {
      "text/plain": [
       "7"
      ]
     },
     "execution_count": 36,
     "metadata": {},
     "output_type": "execute_result"
    }
   ],
   "source": [
    "3 | 5"
   ]
  },
  {
   "cell_type": "code",
   "execution_count": 37,
   "id": "248dbb19-f89e-4331-b325-4a8543f7d918",
   "metadata": {},
   "outputs": [
    {
     "data": {
      "text/plain": [
       "-122"
      ]
     },
     "execution_count": 37,
     "metadata": {},
     "output_type": "execute_result"
    }
   ],
   "source": [
    "#negation\n",
    "~121"
   ]
  },
  {
   "cell_type": "code",
   "execution_count": 38,
   "id": "e51b37a2-788c-469b-b19c-6f3203340af2",
   "metadata": {},
   "outputs": [
    {
     "data": {
      "text/plain": [
       "6"
      ]
     },
     "execution_count": 38,
     "metadata": {},
     "output_type": "execute_result"
    }
   ],
   "source": [
    "#bitwise xor operator >> ^\n",
    "5 ^ 3"
   ]
  },
  {
   "cell_type": "markdown",
   "id": "ffc080a1-f737-4341-9cfa-cdeae4342186",
   "metadata": {},
   "source": [
    "## ANSWER 5"
   ]
  },
  {
   "cell_type": "raw",
   "id": "ac0aa10e-7712-4c64-8a8b-8ae8b8300f77",
   "metadata": {},
   "source": [
    "Type casting, also known as type conversion, is the process of converting a value of one data type to another. This is useful when you need to perform operations involving different types of data or ensure compatibility between data types.\n",
    "int(): Converts a value to an integer.\n",
    "float(): Converts a value to a floating-point number.\n",
    "str(): Converts a value to a string.\n",
    "list(): Converts a value to a list."
   ]
  },
  {
   "cell_type": "code",
   "execution_count": 39,
   "id": "778b9e1b-a615-44ea-ac2f-08e30ad25859",
   "metadata": {},
   "outputs": [
    {
     "data": {
      "text/plain": [
       "float"
      ]
     },
     "execution_count": 39,
     "metadata": {},
     "output_type": "execute_result"
    }
   ],
   "source": [
    "#float to integer\n",
    "a = 3.4\n",
    "type(a)"
   ]
  },
  {
   "cell_type": "code",
   "execution_count": 40,
   "id": "ac2d556c-1503-4b7e-a1df-758ddc7bc279",
   "metadata": {},
   "outputs": [
    {
     "data": {
      "text/plain": [
       "3"
      ]
     },
     "execution_count": 40,
     "metadata": {},
     "output_type": "execute_result"
    }
   ],
   "source": [
    "int(a)"
   ]
  },
  {
   "cell_type": "code",
   "execution_count": 43,
   "id": "b70fd151-3fb7-48d4-8fca-945000858ee4",
   "metadata": {},
   "outputs": [
    {
     "data": {
      "text/plain": [
       "int"
      ]
     },
     "execution_count": 43,
     "metadata": {},
     "output_type": "execute_result"
    }
   ],
   "source": [
    "type(int(a))"
   ]
  },
  {
   "cell_type": "code",
   "execution_count": 47,
   "id": "b5186367-4366-40b6-9eb4-a623f32d7f3d",
   "metadata": {},
   "outputs": [
    {
     "data": {
      "text/plain": [
       "int"
      ]
     },
     "execution_count": 47,
     "metadata": {},
     "output_type": "execute_result"
    }
   ],
   "source": [
    "#integer to float\n",
    "a = 2\n",
    "type(a)"
   ]
  },
  {
   "cell_type": "code",
   "execution_count": 48,
   "id": "047265e4-4a21-45d4-9279-1eaba2412c80",
   "metadata": {},
   "outputs": [
    {
     "data": {
      "text/plain": [
       "2.0"
      ]
     },
     "execution_count": 48,
     "metadata": {},
     "output_type": "execute_result"
    }
   ],
   "source": [
    "float(a)"
   ]
  },
  {
   "cell_type": "code",
   "execution_count": 49,
   "id": "9a7a55db-df0c-49d3-89b7-d400542ac173",
   "metadata": {},
   "outputs": [
    {
     "data": {
      "text/plain": [
       "str"
      ]
     },
     "execution_count": 49,
     "metadata": {},
     "output_type": "execute_result"
    }
   ],
   "source": [
    "#characters cannot be converted into numbers.\n",
    "a = \"Hello\"\n",
    "type(a)"
   ]
  },
  {
   "cell_type": "code",
   "execution_count": 50,
   "id": "a691d97f-4a36-4169-a6c6-5826ac926c4a",
   "metadata": {},
   "outputs": [
    {
     "ename": "ValueError",
     "evalue": "invalid literal for int() with base 10: 'Hello'",
     "output_type": "error",
     "traceback": [
      "\u001b[0;31m---------------------------------------------------------------------------\u001b[0m",
      "\u001b[0;31mValueError\u001b[0m                                Traceback (most recent call last)",
      "Cell \u001b[0;32mIn[50], line 1\u001b[0m\n\u001b[0;32m----> 1\u001b[0m \u001b[38;5;28;43mint\u001b[39;49m\u001b[43m(\u001b[49m\u001b[43ma\u001b[49m\u001b[43m)\u001b[49m\n",
      "\u001b[0;31mValueError\u001b[0m: invalid literal for int() with base 10: 'Hello'"
     ]
    }
   ],
   "source": [
    "int(a)"
   ]
  },
  {
   "cell_type": "markdown",
   "id": "e5fd57de-d549-4d6e-8508-09d7adf70d0b",
   "metadata": {},
   "source": [
    "## ANSWER 6:"
   ]
  },
  {
   "cell_type": "raw",
   "id": "bb850e2b-e8dc-42a4-9670-fbbf69188626",
   "metadata": {},
   "source": [
    "Conditional statements in Python allow you to execute code based on certain conditions. They are essential for decision-making in programming. Python uses if, elif, and else to control the flow of execution.\n",
    "\n",
    "if Statement\n",
    "Executes a block of code if the condition is True.\n",
    "\n",
    "elif (Else If) Statement\n",
    "Provides additional conditions if the previous if conditions were False.\n",
    "\n",
    "else Statement\n",
    "Executes a block of code if all previous conditions were False.\n"
   ]
  },
  {
   "cell_type": "code",
   "execution_count": 51,
   "id": "c18d46fa-caae-4176-8a29-ad1f45e87b8f",
   "metadata": {},
   "outputs": [
    {
     "name": "stdout",
     "output_type": "stream",
     "text": [
      "x is greater than 5 but not greater than 10\n"
     ]
    }
   ],
   "source": [
    "x = 7\n",
    "if x > 10:\n",
    "    print(\"x is greater than 10\")\n",
    "elif x > 5:\n",
    "    print(\"x is greater than 5 but not greater than 10\")\n",
    "else:\n",
    "    print(\"x is 5 or less\")\n"
   ]
  },
  {
   "cell_type": "markdown",
   "id": "c405171c-f73e-4264-99cb-a7d461445b10",
   "metadata": {},
   "source": [
    "## ANSWER 7"
   ]
  },
  {
   "cell_type": "raw",
   "id": "a58ebf2b-b262-4493-88a4-362167dc5c97",
   "metadata": {},
   "source": [
    "Loops in Python are used to execute a block of code repeatedly based on a condition. Python supports two main types of loops: for loops and while loops.\n",
    "\n",
    "for loops are used for iterating over sequences and ranges when the number of iterations is known or fixed.\n",
    "\n",
    "\n",
    "while loops are used for executing code based on dynamic conditions and are suitable when the number of iterations is not predetermined.\n",
    "\n",
    "Control statements (break, continue, and else) enhance loop functionality, allowing you to manage loop execution flow effectively."
   ]
  },
  {
   "cell_type": "code",
   "execution_count": 52,
   "id": "5c373055-4be6-4e9d-bcc8-a3fd4fde98f6",
   "metadata": {},
   "outputs": [
    {
     "name": "stdout",
     "output_type": "stream",
     "text": [
      "0\n",
      "1\n",
      "2\n",
      "3\n",
      "4\n"
     ]
    }
   ],
   "source": [
    "#for loop\n",
    "for i in range(5):\n",
    "    print(i)"
   ]
  },
  {
   "cell_type": "code",
   "execution_count": 1,
   "id": "50eaeb9a-a940-45fe-89ca-a1f6fa40db4f",
   "metadata": {},
   "outputs": [
    {
     "name": "stdout",
     "output_type": "stream",
     "text": [
      "10\n",
      "9\n",
      "8\n",
      "7\n",
      "6\n"
     ]
    }
   ],
   "source": [
    "#while loop\n",
    "count = 10\n",
    "while count > 5:\n",
    "    print(count)\n",
    "    count = count - 1"
   ]
  },
  {
   "cell_type": "code",
   "execution_count": 2,
   "id": "614b5acb-d59c-4eba-932c-3812c9b60496",
   "metadata": {},
   "outputs": [
    {
     "name": "stdout",
     "output_type": "stream",
     "text": [
      "0\n",
      "1\n",
      "2\n",
      "3\n",
      "4\n"
     ]
    }
   ],
   "source": [
    "count = 0\n",
    "while True:\n",
    "    if count == 5:\n",
    "        break\n",
    "    print(count)\n",
    "    count += 1"
   ]
  },
  {
   "cell_type": "code",
   "execution_count": 5,
   "id": "ef2a490f-cf99-4702-a5bc-61d8cf685609",
   "metadata": {},
   "outputs": [
    {
     "name": "stdout",
     "output_type": "stream",
     "text": [
      "0\n",
      "1\n",
      "2\n",
      "3\n",
      "4\n",
      "5\n",
      "6\n",
      "7\n"
     ]
    }
   ],
   "source": [
    "for i in range(10):\n",
    "    if i == 8:\n",
    "        break\n",
    "    print(i)"
   ]
  },
  {
   "cell_type": "code",
   "execution_count": 6,
   "id": "1b42229e-ba45-4a8f-b114-15c0a0d82c9f",
   "metadata": {},
   "outputs": [
    {
     "name": "stdout",
     "output_type": "stream",
     "text": [
      "1\n",
      "3\n",
      "5\n",
      "7\n",
      "9\n"
     ]
    }
   ],
   "source": [
    "for i in range(10):\n",
    "    if i % 2 == 0:\n",
    "        continue\n",
    "    print(i)"
   ]
  },
  {
   "cell_type": "code",
   "execution_count": 7,
   "id": "d40d2e1d-a6b9-48d2-adda-4e003854fb0c",
   "metadata": {},
   "outputs": [
    {
     "name": "stdout",
     "output_type": "stream",
     "text": [
      "0\n",
      "1\n",
      "2\n",
      "3\n",
      "4\n",
      "Loop finished\n"
     ]
    }
   ],
   "source": [
    "for i in range(5):\n",
    "    print(i)\n",
    "else:\n",
    "    print(\"Loop finished\")\n"
   ]
  },
  {
   "cell_type": "code",
   "execution_count": null,
   "id": "0a399a2e-cf44-4b83-ad98-ad664d58bdde",
   "metadata": {},
   "outputs": [],
   "source": []
  }
 ],
 "metadata": {
  "kernelspec": {
   "display_name": "Python 3 (ipykernel)",
   "language": "python",
   "name": "python3"
  },
  "language_info": {
   "codemirror_mode": {
    "name": "ipython",
    "version": 3
   },
   "file_extension": ".py",
   "mimetype": "text/x-python",
   "name": "python",
   "nbconvert_exporter": "python",
   "pygments_lexer": "ipython3",
   "version": "3.10.8"
  }
 },
 "nbformat": 4,
 "nbformat_minor": 5
}
